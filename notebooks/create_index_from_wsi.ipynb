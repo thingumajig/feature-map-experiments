{
 "cells": [
  {
   "cell_type": "code",
   "execution_count": 1,
   "metadata": {},
   "outputs": [
    {
     "name": "stdout",
     "output_type": "stream",
     "text": [
      "pip 23.3.1 from /root/feature-map-experiments/.cenv/lib/python3.10/site-packages/pip (python 3.10)\n"
     ]
    }
   ],
   "source": [
    "!pip -V"
   ]
  },
  {
   "cell_type": "markdown",
   "metadata": {},
   "source": [
    "# .init"
   ]
  },
  {
   "cell_type": "code",
   "execution_count": 2,
   "metadata": {},
   "outputs": [],
   "source": [
    "%load_ext autoreload\n",
    "%autoreload 2\n",
    "\n",
    "%matplotlib inline"
   ]
  },
  {
   "cell_type": "code",
   "execution_count": 3,
   "metadata": {},
   "outputs": [
    {
     "name": "stdout",
     "output_type": "stream",
     "text": [
      "workspace dir: /root/feature-map-experiments\n"
     ]
    }
   ],
   "source": [
    "import os\n",
    "import sys\n",
    "from pathlib import Path\n",
    "workspace_dir = Path.cwd()\n",
    "if not (workspace_dir / '.git').exists():\n",
    "    workspace_dir = workspace_dir.parent\n",
    "\n",
    "\n",
    "module_path = str(workspace_dir.resolve()) # os.path.abspath(os.path.join('..'))\n",
    "print(f'workspace dir: {module_path}')\n",
    "\n",
    "# Fixes a periodic issue with locating local packages.\n",
    "if module_path not in sys.path:\n",
    "    sys.path.append(module_path)"
   ]
  },
  {
   "cell_type": "code",
   "execution_count": 4,
   "metadata": {},
   "outputs": [],
   "source": [
    "from matplotlib import pyplot as plt\n",
    "from PIL import Image\n",
    "import numpy as np"
   ]
  },
  {
   "cell_type": "code",
   "execution_count": 5,
   "metadata": {},
   "outputs": [
    {
     "name": "stdout",
     "output_type": "stream",
     "text": [
      "/root/feature-map-experiments/WSI/C-17-036-2021-07-15_215134.ndpi\n"
     ]
    }
   ],
   "source": [
    "# import openslide\n",
    "slides_dir = workspace_dir / 'WSI'\n",
    "# slide_path = slides_dir / 'C-16-098.svs'\n",
    "\n",
    "wsi_file_name = 'C-17-036-2021-07-15_215134.ndpi'\n",
    "slide_path = slides_dir / wsi_file_name\n",
    "\n",
    "print(f'{slide_path}')\n"
   ]
  },
  {
   "cell_type": "code",
   "execution_count": 6,
   "metadata": {},
   "outputs": [
    {
     "data": {
      "text/plain": [
       "'ndpi'"
      ]
     },
     "execution_count": 6,
     "metadata": {},
     "output_type": "execute_result"
    }
   ],
   "source": [
    "slide_path.suffix[1:]"
   ]
  },
  {
   "cell_type": "code",
   "execution_count": 7,
   "metadata": {},
   "outputs": [],
   "source": [
    "from fmc.file_cache import CachcedFileIndex, OpenSlideWSIDriver\n",
    "\n",
    "index = CachcedFileIndex(index_root=workspace_dir/'.indexes')\n",
    "\n",
    "wsi_driver = OpenSlideWSIDriver(file_index=index, original_files_path=slides_dir)\n",
    "wsi_driver.save_metadata(wsi_file_name)"
   ]
  },
  {
   "cell_type": "markdown",
   "metadata": {},
   "source": [
    "# Extract patches"
   ]
  },
  {
   "cell_type": "code",
   "execution_count": 8,
   "metadata": {},
   "outputs": [
    {
     "name": "stdout",
     "output_type": "stream",
     "text": [
      "width=134400, height=64512, cols: 150 rows: 72\n",
      "Total: 1000, Saved: 105, blank: 895\n",
      "Total: 1243, Saved: 229, blank: 1014\n"
     ]
    }
   ],
   "source": [
    "wsi_driver.generate_patches(wsi_file_name)"
   ]
  },
  {
   "cell_type": "code",
   "execution_count": null,
   "metadata": {},
   "outputs": [],
   "source": []
  }
 ],
 "metadata": {
  "kernelspec": {
   "display_name": "Python 3",
   "language": "python",
   "name": "python3"
  },
  "language_info": {
   "codemirror_mode": {
    "name": "ipython",
    "version": 3
   },
   "file_extension": ".py",
   "mimetype": "text/x-python",
   "name": "python",
   "nbconvert_exporter": "python",
   "pygments_lexer": "ipython3",
   "version": "3.10.13"
  }
 },
 "nbformat": 4,
 "nbformat_minor": 2
}
